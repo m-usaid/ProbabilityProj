{
 "cells": [
  {
   "cell_type": "markdown",
   "metadata": {},
   "source": [
    "Task 3\n",
    "------"
   ]
  },
  {
   "cell_type": "code",
   "execution_count": 3,
   "metadata": {},
   "outputs": [],
   "source": [
    "import random\n",
    "import numpy as np\n",
    "import matplotlib.pyplot as plt\n",
    "import math\n",
    "from mpl_toolkits.mplot3d import Axes3D"
   ]
  },
  {
   "cell_type": "code",
   "execution_count": 13,
   "metadata": {},
   "outputs": [],
   "source": [
    "def task3(steps,x,y, pidiv):\n",
    "    theta_vals = [0]\n",
    "    r_vals = [0, 0.5, 1]\n",
    "    theta_val = 0\n",
    "    x_vals, y_vals = [], []\n",
    "    x,y = 0,0\n",
    "    \n",
    "    for i in range(pidiv):\n",
    "        theta_val += 2*math.pi/pidiv\n",
    "        theta_vals.append(theta_val)\n",
    "        \n",
    "    for i in range(steps):\n",
    "        step = np.random.choice(r_vals)\n",
    "        theta_step = np.random.choice(theta_vals)\n",
    "        x += step*math.cos(theta_step)\n",
    "        y += step*math.sin(theta_step)\n",
    "        if math.sqrt(x**2+y**2) > 100:\n",
    "            x = -x\n",
    "            y = -y\n",
    "            \n",
    "        x_vals.append(x)\n",
    "        y_vals.append(y)\n",
    "        \n",
    "    return x_vals, y_vals\n",
    "        "
   ]
  },
  {
   "cell_type": "code",
   "execution_count": 16,
   "metadata": {},
   "outputs": [],
   "source": [
    "steps = 100000\n",
    "stepnum = [i for i in range(steps)]\n",
    "x_vals, y_vals = task3(steps, -100, 0, 4)"
   ]
  },
  {
   "cell_type": "code",
   "execution_count": 17,
   "metadata": {},
   "outputs": [
    {
     "data": {
      "text/plain": [
       "<function matplotlib.pyplot.show(*args, **kw)>"
      ]
     },
     "execution_count": 17,
     "metadata": {},
     "output_type": "execute_result"
    },
    {
     "data": {
      "image/png": "[encoded data removed]",
      "text/plain": [
       "<Figure size 432x288 with 1 Axes>"
      ]
     },
     "metadata": {
      "needs_background": "light"
     },
     "output_type": "display_data"
    }
   ],
   "source": [
    "plt.plot(x_vals, y_vals)\n",
    "plt.show"
   ]
  },
  {
   "cell_type": "code",
   "execution_count": null,
   "metadata": {},
   "outputs": [],
   "source": []
  }
 ],
 "metadata": {
  "kernelspec": {
   "display_name": "Python 3",
   "language": "python",
   "name": "python3"
  },
  "language_info": {
   "codemirror_mode": {
    "name": "ipython",
    "version": 3
   },
   "file_extension": ".py",
   "mimetype": "text/x-python",
   "name": "python",
   "nbconvert_exporter": "python",
   "pygments_lexer": "ipython3",
   "version": "3.7.6"
  }
 },
 "nbformat": 4,
 "nbformat_minor": 4
}
